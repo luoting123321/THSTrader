{
 "cells": [
  {
   "cell_type": "code",
   "execution_count": 5,
   "metadata": {},
   "outputs": [
    {
     "name": "stderr",
     "output_type": "stream",
     "text": [
      "Neither CUDA nor MPS are available - defaulting to CPU. Note: This module is much faster with a GPU.\n"
     ]
    }
   ],
   "source": [
    "import time\n",
    "import os\n",
    "import uiautomator2 as u2\n",
    "import easyocr\n",
    "import multiprocessing\n",
    "from PIL import Image\n",
    "# trader = THSTrader(r\"emulator-5554\")\n",
    "d =  u2.connect_usb(\"TAN6R22506423106\")\n",
    "reader = easyocr.Reader(['ch_sim','en'])\n",
    "d.app_start(\"com.hexin.plat.android\")\n",
    "# d.xpath('//*[@content-desc=\"交易\"]/android.widget.ImageView[1]').click()"
   ]
  }
 ],
 "metadata": {
  "kernelspec": {
   "display_name": "venv",
   "language": "python",
   "name": "python3"
  },
  "language_info": {
   "codemirror_mode": {
    "name": "ipython",
    "version": 3
   },
   "file_extension": ".py",
   "mimetype": "text/x-python",
   "name": "python",
   "nbconvert_exporter": "python",
   "pygments_lexer": "ipython3",
   "version": "3.9.13"
  }
 },
 "nbformat": 4,
 "nbformat_minor": 2
}
